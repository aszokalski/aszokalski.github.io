{
 "cells": [
  {
   "cell_type": "markdown",
   "metadata": {},
   "source": [
    "# Klasyfikacja Metodą K Najbliższych Sąsiadów\n",
    "\n",
    "## Co to jest klasyfikacja?\n",
    "Klasyfikacja to inaczej **przydzielanie nowego nieznanego nam elementu do zdefiniowanych wcześniej grup innych elementów**. Robimy to porównując wartości opisujące dany element, czyli jego cechy, z cechami elementów już do jakiejś grupy przydzielonych. \n",
    "\n",
    "Wyobraź sobie, że element opisują 2 cechy (na przykład szerokość i waga). Teraz, wymyślmy sobie te już zdefiniowane elementy i przydzielmy je do grup A lub B:\n",
    "\n",
    "| Szerokość | Waga | Grupa |\n",
    "|-----------|------|-------|\n",
    "| 10        | 5    | A     |\n",
    "| 2         | 5    | B     |\n",
    "| 5         | 3    | B     |\n",
    "| 7         | 6    | A     |\n",
    "\n",
    "Jak widzisz elementy te można przedstawić na grafie 2-wymiarowym. Wystarczy szerokość przedstawić na osi X, a wagę na osi Y. Zróbmy to w Pythonie:"
   ]
  },
  {
   "cell_type": "code",
   "execution_count": 1,
   "metadata": {},
   "outputs": [
    {
     "data": {
      "image/png": "[encoded data removed]",
      "text/plain": [
       "<Figure size 432x288 with 1 Axes>"
      ]
     },
     "metadata": {
      "needs_background": "light"
     },
     "output_type": "display_data"
    }
   ],
   "source": [
    "%matplotlib inline\n",
    "import matplotlib.pyplot as plt\n",
    "\n",
    "A = [10, 7], [5, 6]\n",
    "B = [2, 5], [5, 5]\n",
    "\n",
    "plt.scatter(A[0], A[1], label='Grupa A')\n",
    "plt.scatter(B[0], B[1], label='Grupa B')\n",
    "\n",
    "plt.xlabel('X - Szerokość')\n",
    "plt.ylabel('Y - Waga')\n",
    "plt.legend()\n",
    "plt.show()"
   ]
  },
  {
   "cell_type": "markdown",
   "metadata": {},
   "source": [
    "Teraz wprowadźmy nowy niesklasyfikowany element:\n",
    "\n",
    "| Szerokość | Waga | Grupa |\n",
    "|-----------|------|-------|\n",
    "| 10        | 5    | A     |\n",
    "| 2         | 5    | B     |\n",
    "| 5         | 3    | B     |\n",
    "| 7         | 6    | A     |\n",
    "| 8         | 5    | ?     |\n",
    "\n",
    "Dodajmy go do naszego grafu:"
   ]
  },
  {
   "cell_type": "code",
   "execution_count": 2,
   "metadata": {},
   "outputs": [
    {
     "data": {
      "image/png": "[encoded data removed]",
      "text/plain": [
       "<Figure size 432x288 with 1 Axes>"
      ]
     },
     "metadata": {
      "needs_background": "light"
     },
     "output_type": "display_data"
    }
   ],
   "source": [
    "N = [8], [5]\n",
    "\n",
    "plt.scatter(A[0], A[1], label='Grupa A')\n",
    "plt.scatter(B[0], B[1], label='Grupa B')\n",
    "plt.scatter(N[0], N[1], label='Grupa Nieznana')\n",
    "\n",
    "plt.xlabel('X - Szerokość')\n",
    "plt.ylabel('Y - Waga')\n",
    "plt.legend()\n",
    "plt.show()"
   ]
  },
  {
   "cell_type": "markdown",
   "metadata": {},
   "source": [
    "**Do jakiej grupy przypiszemy nowy element?** Zadecyduje o tym algorytm K Najbliższych Sąsiadów! (lub inny algorytm klasyfikujący)\n",
    "\n",
    "## Definicja\n",
    "Algorytm K Najbliższych Sąsiadów (ang. KNN) jest najprostszym i najwolniejszym algorytmem klasyfikacyjnym. Problematyczny staje się przy dużych zestawach danych.\n",
    "\n",
    "Polega na znalezieniu **k elementów już sklasyfikowanych** (sąsiadów) najbliższych nowemu elementowi i przydzieleniu tego elementu **do grupy, do której należy większość jego sąsiadów**. \n",
    "\n",
    "## Objaśnienie\n",
    "\n",
    "### Liczenie odległości między 2-wymiarowymi elementami \n",
    "Znasz pewnie __twierdzenie Pitagorasa__. Za jego pomocą możemy **obliczyć długość przeciwprostokątnej w trójkącie prostokątnym, znając długości przyprostokątnych**:\n",
    "\n",
    "$$ c = \\sqrt{a^{2} + b^{2}} $$\n",
    "\n",
    "Liczenie odległości między elementami opisanymi przez 2 cechy działa dokładnie tak samo! Wyobraź sobie **trójkąt prostokątny, w którym odległość między punktami jest przeciwprostokątną**. Wzór na odległość między punktami a i b (gdzie ax to współżędna x dla punktu a itd.) wygląda tak:\n",
    "\n",
    "$$ O_{ab} = \\sqrt{(a_{x} - b_{x})^{2} + (a_{y} - b_{y})^{2}} $$\n",
    "\n",
    "**Przykład**\n",
    "\n",
    "$$ O_{(10, 5)(7, 6)} = \\sqrt{(10 - 7)^{2} + (5 - 6)^{2}} = \\sqrt{10} $$\n",
    "\n",
    "### Liczenie odległości między n-wymiarowymi elementami\n",
    "A jak obliczyć odległość między elementami, które opisują **więcej niż 2 cechy?**. W takim wypadku musimy odejść od wizualizacji elementów jako punktów na grafie. Może cię to zaskoczy, ale wzór pozostaje taki sam! Dla 2 elementów a, b **opisywanych przez n cech** (gdzie b1 oznacza 1 cechę opisującą element itd.) wzór wygląda tak:\n",
    "\n",
    "$$ O_{ab} = \\sqrt{(a_{1} - b_{1})^{2} + (a_{2} - b_{2})^{2} + ... + (a_{n} - b_{n})^{2}} $$\n",
    "\n",
    "Zapiszmy to w Pythonie:"
   ]
  },
  {
   "cell_type": "code",
   "execution_count": 3,
   "metadata": {},
   "outputs": [
    {
     "name": "stdout",
     "output_type": "stream",
     "text": [
      "odleglosc([10, 5], [7, 6]) =  3.1622776601683795\n",
      "odleglosc([10, 5, 4], [7, 6, 1]) =  4.358898943540674\n"
     ]
    }
   ],
   "source": [
    "from math import sqrt, ceil\n",
    "\n",
    "def odleglosc(e1, e2):\n",
    "    suma_kwadratow = 0\n",
    "    for a, b in zip(e1, e2):\n",
    "        suma_kwadratow += ((a - b) ** 2)\n",
    "    return sqrt(suma_kwadratow)\n",
    "\n",
    "print(\"odleglosc([10, 5], [7, 6]) = \", odleglosc([10, 5], [7, 6]))\n",
    "print(\"odleglosc([10, 5, 4], [7, 6, 1]) = \", odleglosc([10, 5, 4], [7, 6, 1]))"
   ]
  },
  {
   "cell_type": "markdown",
   "metadata": {},
   "source": [
    "### Ustalanie zmiennej k\n",
    "Zmienna k w dużej mierze decyduje o działaniu klasyfikatora. Determinuje ilość najbliższych sąsiadów decydujących o klasyfikacji elementu. Jest liczbą naturalną. Parametr ten jest dowolny, ale jeśli chcemy, żeby nasz klasyfikator działał wydajnie, musimy przyjąć pare założeń:\n",
    "\n",
    "* K musi być większe od pierwiastka kwadratowego z ilości wszystkich elementów sklasyfikowanych\n",
    "\n",
    "$$ k \\geq \\sqrt{n} ,    \\;\\;\\;  n\\text{ - ilość elementów sklasyfikowanych } $$\n",
    "\n",
    "* Jeśli ilość grup jest parzysta, to k musi być nieparzyste. W innym wypadku, k musi być parzyste.\n",
    "\n",
    "$$k = \\begin{cases}\n",
    "2a + 1 & \\text{jeśli } c \\mid 2\\\\ \n",
    "2a & \\text{w innym wypadku }\n",
    "\\end{cases} \\;\\;\\; c\\text{ - ilość grup, } \\;\\; a \\in \\mathbb{N}$$\n",
    "\n",
    "* K musibyć większe od ilości grup\n",
    "\n",
    "$$ k > c $$"
   ]
  },
  {
   "cell_type": "code",
   "execution_count": 4,
   "metadata": {},
   "outputs": [
    {
     "name": "stdout",
     "output_type": "stream",
     "text": [
      "ustal_k(100, 7) =  10\n",
      "ustal_k(4, 2) =  3\n"
     ]
    }
   ],
   "source": [
    "def ustal_k(n, c):\n",
    "    k = ceil(sqrt(n))\n",
    "    while k <= c:\n",
    "        k += 1\n",
    "    if c % 2 == 0 and k % 2 == 0:\n",
    "        k += 1\n",
    "    elif c % 2 == 1 and k % 2 == 1:\n",
    "        k += 1\n",
    "    return k\n",
    "\n",
    "print(\"ustal_k(100, 7) = \", ustal_k(100, 7))\n",
    "print(\"ustal_k(4, 2) = \", ustal_k(4, 2))"
   ]
  },
  {
   "cell_type": "markdown",
   "metadata": {},
   "source": [
    "## Implementacja\n",
    "Już wiemy jak obliczyć odległość między elementami i jak wyznaczyć k. Możemy więc dokończyć nasz przykład:\n",
    "\n",
    "### Obliczmy odległości wszystkich elementów od nowego elementu:"
   ]
  },
  {
   "cell_type": "code",
   "execution_count": 5,
   "metadata": {},
   "outputs": [
    {
     "data": {
      "text/plain": [
       "[((10, 5), 2.0),\n",
       " ((2, 5), 6.0),\n",
       " ((5, 3), 3.605551275463989),\n",
       " ((7, 6), 1.4142135623730951)]"
      ]
     },
     "execution_count": 5,
     "metadata": {},
     "output_type": "execute_result"
    }
   ],
   "source": [
    "grupa = {\n",
    "    (10, 5) : 'A',\n",
    "    (2, 5) : 'B',\n",
    "    (5, 3) : 'B',\n",
    "    (7, 6) : 'A'\n",
    "}\n",
    "odl = []\n",
    "\n",
    "nowy = (8, 5)\n",
    "\n",
    "for elem in grupa.keys():\n",
    "    odl.append((elem, odleglosc(nowy, elem)))\n",
    "odl"
   ]
  },
  {
   "cell_type": "markdown",
   "metadata": {},
   "source": [
    "| Szerokość | Waga | Grupa | Odległość |\n",
    "|-----------|------|-------|-----------|\n",
    "| 10        | 5    | A     |2.0        |\n",
    "| 2         | 5    | B     |6.0        |\n",
    "| 5         | 3    | B     |3.6        |\n",
    "| 7         | 6    | A     |1.4        |\n",
    "| 8         | 5    | ?     |-          | \n",
    "\n",
    "\n",
    "### Obliczmy wartość k"
   ]
  },
  {
   "cell_type": "code",
   "execution_count": 6,
   "metadata": {},
   "outputs": [
    {
     "name": "stdout",
     "output_type": "stream",
     "text": [
      "k =  3\n"
     ]
    }
   ],
   "source": [
    "k = ustal_k(len(grupa), len(set(grupa.values()))) #k dla przykładu\n",
    "print(\"k = \", k)"
   ]
  },
  {
   "cell_type": "markdown",
   "metadata": {},
   "source": [
    "### Wyznaczmy k najbliższych sasiadów"
   ]
  },
  {
   "cell_type": "code",
   "execution_count": 7,
   "metadata": {},
   "outputs": [
    {
     "data": {
      "text/plain": [
       "[((7, 6), 1.4142135623730951), ((10, 5), 2.0), ((5, 3), 3.605551275463989)]"
      ]
     },
     "execution_count": 7,
     "metadata": {},
     "output_type": "execute_result"
    }
   ],
   "source": [
    "import operator\n",
    "odl.sort(key=operator.itemgetter(1))\n",
    "k_najblizszych = odl[:k]\n",
    "k_najblizszych"
   ]
  },
  {
   "cell_type": "markdown",
   "metadata": {},
   "source": [
    "| Szerokość | Waga | Grupa | Odległość |\n",
    "|-----------|------|-------|-----------|\n",
    "| 10        | 5    | A     |**2.0**        |\n",
    "| 2         | 5    | B     |6.0        |\n",
    "| 5         | 3    | B     |**3.6**        |\n",
    "| 7         | 6    | A     |**1.4**     |\n",
    "| 8         | 5    | ?     |-          | \n",
    "\n",
    "### Policzmy wystąpienia grup wśród k najbliższych sąsiadów"
   ]
  },
  {
   "cell_type": "code",
   "execution_count": 8,
   "metadata": {},
   "outputs": [
    {
     "data": {
      "text/plain": [
       "{'A': 2, 'B': 1}"
      ]
     },
     "execution_count": 8,
     "metadata": {},
     "output_type": "execute_result"
    }
   ],
   "source": [
    "wyst = {}\n",
    "for sasiad in k_najblizszych:\n",
    "    element = grupa[sasiad[0]]\n",
    "    if element in wyst.keys():\n",
    "        wyst[element] += 1\n",
    "    else:\n",
    "        wyst[element] = 1\n",
    "wyst"
   ]
  },
  {
   "cell_type": "markdown",
   "metadata": {},
   "source": [
    "| Grupa |Wystąpienia |\n",
    "|-----------|------|\n",
    "| A        | 2    |\n",
    "| B        | 1    | \n",
    "\n",
    "### Wyznaczmy najczęściej występującą grupę wśród sąsiadów"
   ]
  },
  {
   "cell_type": "code",
   "execution_count": 9,
   "metadata": {},
   "outputs": [
    {
     "name": "stdout",
     "output_type": "stream",
     "text": [
      "Nowy element należy do grupy  A\n"
     ]
    }
   ],
   "source": [
    "klasyfikacja = max(wyst, key=wyst.get)\n",
    "print(\"Nowy element należy do grupy \", klasyfikacja)"
   ]
  },
  {
   "cell_type": "markdown",
   "metadata": {},
   "source": [
    "| Szerokość | Waga | Grupa |\n",
    "|-----------|------|-------|\n",
    "| 10        | 5    | A     |\n",
    "| 2         | 5    | B     |\n",
    "| 5         | 3    | B     |\n",
    "| 7         | 6    | A     |\n",
    "| 8         | 5    | **A**     |\n",
    "\n",
    "### Gotowe!\n",
    "Teraz możemy napisać całą funkcję klasyfikacji metodą K Najbliższych Sąsiadów! Oto ona:"
   ]
  },
  {
   "cell_type": "code",
   "execution_count": 10,
   "metadata": {},
   "outputs": [
    {
     "name": "stdout",
     "output_type": "stream",
     "text": [
      "Wejscie:  {(10, 5): 'A', (2, 5): 'B', (5, 3): 'B', (7, 6): 'A'}  i  (8, 5)\n",
      "Słownik sklasyfikowanych elementów (bez nowego) i nowy element\n",
      "\n",
      "Wyjscie:  {(10, 5): 'A', (2, 5): 'B', (5, 3): 'B', (7, 6): 'A', (8, 5): 'A'}\n",
      "Słownik sklasyfikowanych elementów (w tym nowego)\n"
     ]
    }
   ],
   "source": [
    "print(\"Wejscie: \", grupa, \" i \",  nowy)\n",
    "print(\"Słownik sklasyfikowanych elementów (bez nowego) i nowy element\")\n",
    "print()\n",
    "\n",
    "def klasyfikacja_knn(sklasyfikowane, nowy):\n",
    "    odl = []\n",
    "    for elem in sklasyfikowane.keys():\n",
    "        odl.append((elem, odleglosc(nowy, elem)))\n",
    "    \n",
    "    k = ustal_k(len(grupa), len(set(grupa.values())))\n",
    "    \n",
    "    odl.sort(key=operator.itemgetter(1))\n",
    "    k_najblizszych = odl[:k]\n",
    "    \n",
    "    wyst = {}\n",
    "    for sasiad in k_najblizszych:\n",
    "        element = grupa[sasiad[0]]\n",
    "        if element in wyst.keys():\n",
    "            wyst[element] += 1\n",
    "        else:\n",
    "            wyst[element] = 1\n",
    "            \n",
    "    sklasyfikowane[nowy] = max(wyst, key=wyst.get)\n",
    "    return sklasyfikowane\n",
    "\n",
    "print(\"Wyjscie: \", klasyfikacja_knn(grupa, nowy))\n",
    "print(\"Słownik sklasyfikowanych elementów (w tym nowego)\")"
   ]
  },
  {
   "cell_type": "markdown",
   "metadata": {},
   "source": [
    "Jak widzisz klasyfikacja metodą KNN jest bardzo prosta! To tyle!\n",
    "\n",
    "## Źródła\n",
    "[How to choose the value of K in knn algorithm](https://discuss.analyticsvidhya.com/t/how-to-choose-the-value-of-k-in-knn-algorithm/2606)\n",
    "\n",
    "\"Wprowadzenie Do Algorytmów\" Aditya Y. Bhargava"
   ]
  },
  {
   "cell_type": "code",
   "execution_count": null,
   "metadata": {},
   "outputs": [],
   "source": []
  }
 ],
 "metadata": {
  "kernelspec": {
   "display_name": "Python 3",
   "language": "python",
   "name": "python3"
  },
  "language_info": {
   "codemirror_mode": {
    "name": "ipython",
    "version": 3
   },
   "file_extension": ".py",
   "mimetype": "text/x-python",
   "name": "python",
   "nbconvert_exporter": "python",
   "pygments_lexer": "ipython3",
   "version": "3.6.5"
  }
 },
 "nbformat": 4,
 "nbformat_minor": 2
}
