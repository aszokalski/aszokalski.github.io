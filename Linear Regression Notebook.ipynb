{
 "cells": [
  {
   "cell_type": "markdown",
   "metadata": {},
   "source": [
    "# Prosta Regresja Liniowa\n",
    "\n",
    "## Definicja\n",
    "\n",
    "Regresja liniowa to metoda **przewidywania wartości** szukanej zmiennej *y* (zwanej zmienną zależną lub objaśnianą) przy znanych wartościach innych zmiennych _x_ (zwanych niezależnymi lub objaśniającymi).\n",
    "\n",
    "Metoda ta zakłada, że zależność między zmienną objaśniającą a objaśnianą jest **zależnością liniową**, dlatego funkcja regresji liniowej przyjmuje postać **funkcji liniowej**:\n",
    "\n",
    "$$ y = bx + a $$\n",
    "\n",
    "Analiza regresji liniowej ma na celu wyliczenie takich współczynników **b (ang. slope) i a (ang. intercept)**, aby funkcja **najlepiej przewidywała zmienną objaśnianą**. Linia będąca wynikiem tej funkcji nazywa się __linią najlepiej pasującą__ (ang. best-fitting line) i jest **modelem regresji liniowej**.\n",
    "\n",
    "\n",
    "\n",
    "\n",
    "\n"
   ]
  },
  {
   "cell_type": "markdown",
   "metadata": {},
   "source": [
    "## Objaśnienie\n",
    "Dane mamy przykładowe zbiory X i Y:\n",
    "\n",
    "$$ X = \\left \\{  1,2,3,4,5 \\right \\} $$\n",
    "$$ Y = \\left \\{  4, 6, 9, 11, 18 \\right \\} $$\n",
    "\n",
    "Zapiszmy to w Pythonie:"
   ]
  },
  {
   "cell_type": "code",
   "execution_count": 1,
   "metadata": {
    "scrolled": false
   },
   "outputs": [
    {
     "data": {
      "text/html": [
       "<div>\n",
       "<style scoped>\n",
       "    .dataframe tbody tr th:only-of-type {\n",
       "        vertical-align: middle;\n",
       "    }\n",
       "\n",
       "    .dataframe tbody tr th {\n",
       "        vertical-align: top;\n",
       "    }\n",
       "\n",
       "    .dataframe thead th {\n",
       "        text-align: right;\n",
       "    }\n",
       "</style>\n",
       "<table border=\"1\" class=\"dataframe\">\n",
       "  <thead>\n",
       "    <tr style=\"text-align: right;\">\n",
       "      <th></th>\n",
       "      <th>X</th>\n",
       "      <th>Y</th>\n",
       "    </tr>\n",
       "  </thead>\n",
       "  <tbody>\n",
       "    <tr>\n",
       "      <th>0</th>\n",
       "      <td>1</td>\n",
       "      <td>4</td>\n",
       "    </tr>\n",
       "    <tr>\n",
       "      <th>1</th>\n",
       "      <td>2</td>\n",
       "      <td>6</td>\n",
       "    </tr>\n",
       "    <tr>\n",
       "      <th>2</th>\n",
       "      <td>3</td>\n",
       "      <td>9</td>\n",
       "    </tr>\n",
       "    <tr>\n",
       "      <th>3</th>\n",
       "      <td>4</td>\n",
       "      <td>11</td>\n",
       "    </tr>\n",
       "    <tr>\n",
       "      <th>4</th>\n",
       "      <td>5</td>\n",
       "      <td>18</td>\n",
       "    </tr>\n",
       "  </tbody>\n",
       "</table>\n",
       "</div>"
      ],
      "text/plain": [
       "   X   Y\n",
       "0  1   4\n",
       "1  2   6\n",
       "2  3   9\n",
       "3  4  11\n",
       "4  5  18"
      ]
     },
     "execution_count": 1,
     "metadata": {},
     "output_type": "execute_result"
    }
   ],
   "source": [
    "%matplotlib inline\n",
    "import pandas as pd\n",
    "import matplotlib.pyplot as plt\n",
    "\n",
    "df = pd.DataFrame()\n",
    "df['X'] = [1, 2, 3, 4, 5]\n",
    "df['Y'] = [4, 6, 9, 11, 18]\n",
    "df"
   ]
  },
  {
   "cell_type": "code",
   "execution_count": 2,
   "metadata": {},
   "outputs": [
    {
     "data": {
      "image/png": "[encoded data removed]",
      "text/plain": [
       "<Figure size 432x288 with 1 Axes>"
      ]
     },
     "metadata": {
      "needs_background": "light"
     },
     "output_type": "display_data"
    }
   ],
   "source": [
    "plt.scatter(df['X'], df['Y'], label='Wartości Niezależne')\n",
    "plt.xlabel('Wartości X')\n",
    "plt.ylabel('Wartości Y')\n",
    "plt.legend()\n",
    "plt.show()"
   ]
  },
  {
   "cell_type": "markdown",
   "metadata": {},
   "source": [
    "Aby wyznaczyć najlepiej pasującą linię, musimy obliczyć współczynniki b i a. Jednak zanim to zrobimy musimy przygotować sobie pare zmiennych: \n",
    "\n",
    "* **Średnie zbiorów X i Y** (Mx, My)\n",
    "* **Odchylenie standardowe (z próby) zbiorów X i Y** (Sx, Sy)\n",
    "* **Współczynnik korelacji (Pearsona) zbiorów X i Y** (r)\n",
    "\n",
    "### Obliczanie średniej arytmetycznej\n",
    "Średnia arytmetyczna zbioru to suma wszystkich jego elementów podzielona przez ich ilość. Określa **średnią wartość elementów danego zbioru**. Opisuje ją wzór:\n",
    "\n",
    "$$ M_{A} = \\frac{a_{1} + a_{2} + ... + a_{n}}{n} $$\n",
    "\n",
    "Więc średnie zbiorów X i Y możemy obliczyć tak:\n",
    "\n",
    "$$Mx = \\frac{1 + 2 + 3 + 4 + 5}{5} = \\frac{15}{5} = 3$$\n",
    "\n",
    "$$My = \\frac{4, 6, 9, 11, 18}{5} = \\frac{48}{5} = 9.6$$\n",
    "\n",
    ".. a tak to wygląda w Pythonie:"
   ]
  },
  {
   "cell_type": "code",
   "execution_count": 3,
   "metadata": {},
   "outputs": [
    {
     "name": "stdout",
     "output_type": "stream",
     "text": [
      "Mx:  3.0\n",
      "My:  9.6\n"
     ]
    }
   ],
   "source": [
    "def srednia(zbior):\n",
    "    return float(zbior.sum()) / len(zbior)\n",
    "\n",
    "Mx = srednia(df['X'])\n",
    "My = srednia(df['Y'])\n",
    "\n",
    "print(\"Mx: \", Mx)\n",
    "print(\"My: \", My)\n"
   ]
  },
  {
   "cell_type": "markdown",
   "metadata": {},
   "source": [
    "### Obliczanie odchylenia standardowego z próby\n",
    "Odchylenie standardowe to jedna z miar zmienności zbioru. **Służy ono do estymowania o ile średnio elementy zbioru różnią się od średniej tego zbioru**. Obliczamy je za pomocą poniższego wzoru:\n",
    "\n",
    "$$ s_{A} = \\sqrt{\\frac{(a_{1} - M_{A})^{2}  + (a_{2} - M_{A})^{2}  + ... + (a_{n} - M_{A})^{2} }{n - 1}} $$\n",
    "\n",
    "Powyższy wzór jest skomplikowany, ale bardzo łatwy do zaimplementowania, gdy znamy już średnią zbioru!\n",
    "Odchylenie standardowe policzymy tak:\n",
    "\n",
    "$$ s_{X} = \\sqrt{\\frac{(1 - 3)^{2}  + (2 - 3)^{2}  + (3 - 3)^{2}  + (4 - 3)^{2}  + (5 - 3)^{2} }{5 - 1}} = \\sqrt{\\frac{10}{4}} \\approx 1.58$$\n",
    "\n",
    "$$ s_{Y} = \\sqrt{\\frac{(4 - 9.6)^{2}  + (6 - 9.6)^{2}  + (9 - 9.6)^{2}  + (11 - 9.6)^{2}  + (18 - 9.6)^{2} }{5 - 1}} = \\sqrt{\\frac{117.2}{4}} \\approx 5.41 $$"
   ]
  },
  {
   "cell_type": "code",
   "execution_count": 4,
   "metadata": {},
   "outputs": [
    {
     "name": "stdout",
     "output_type": "stream",
     "text": [
      "Sx:  1.5811388300841898\n",
      "Sy:  5.412947441089743\n"
     ]
    }
   ],
   "source": [
    "from math import sqrt\n",
    "\n",
    "def odchylenie(zbior, srednia):\n",
    "    licznik = 0\n",
    "    for elem in zbior:\n",
    "        licznik += (elem - srednia) * (elem - srednia)\n",
    "    return sqrt(licznik / (len(zbior) - 1))\n",
    "\n",
    "Sx = odchylenie(df['X'], Mx)\n",
    "Sy = odchylenie(df['Y'], My)\n",
    "\n",
    "print(\"Sx: \", Sx)\n",
    "print(\"Sy: \", Sy)\n",
    "    "
   ]
  },
  {
   "cell_type": "markdown",
   "metadata": {},
   "source": [
    "### Obliczanie współczynnika korelacji Pearsona\n",
    "Współczynnik korelacji liniowej Pearsona **służy do określenia związku liczb z dwóch zbiorów**.\n",
    "Może przyjmować warotści od -1 do 1. Jeśli:\n",
    "\n",
    "* Współczynnik korelacji jest **większy od 0**, to znaczy, że między elementami danych zbiorów istnieje __korelacja dodatnia__. Oznacza to, że wraz ze wzrostem wartości elementów pierwszego zbioru, rosną wartości elementów drugiego zbioru. Korelacja ta jest silniejsza, gdy współczynnik ma wartość bliższą **1**.\n",
    "\n",
    "\n",
    "* Współczynnik korelacji jest **mniejszy od 0**, to znaczy, że między elementami danych zbiorów istnieje __korelacja ujemna__. Oznacza to, że wraz ze wzrostem wartości elementów pierwszego zbioru, maleją wartości elementów drugiego zbioru. Korelacja ta jest silniejsza, gdy współczynnik ma wartość bliższą **-1**.\n",
    "\n",
    "\n",
    "* Współczynnik korelacji jest **równy 0**, to znaczy, że między elementami danych zbiorów __nie ma korelacji__.\n",
    "\n",
    "W skrócie:\n",
    "\n",
    "* r > 0 - korelacja dodatnia\n",
    "\n",
    "* r < 0 - korelacja ujemna\n",
    "\n",
    "* r = 0 - brak korelacji\n",
    "\n",
    "\n",
    "Współczynnik korelacji liniowej Pearsona opisuje wzór:\n",
    "\n",
    "$$ r_{XY}=\\frac{n \\times ( x_{1}y_{1} + x_{2}y_{2} +  ... + x_{n}y_{n})  - (x_{0} + x_{1} + ... + x_{n}) \\times (y_{0} + y_{1} + ... + y_{n})  } {\\sqrt{[n \\times (x_{0}^{2} + x_{1}^{2} + ... + x_{n}^{2}) - (x_{0} + x_{1} + ... + x_{n})^{2}] \\times [n \\times (y_{0}^{2} + y_{1}^{2} + ... + y_{n}^{2}) - (y_{0} + y_{1} + ... + y_{n})^{2}]}} $$\n",
    "\n",
    "Wow.. Wygląda okropnie. Na szczęście to tylko zapis. Obliczenie tego jest znowu zaskakująco proste! Zanim jednak to zrobimy musimy rozszerzyć naszą tabelę i obliczyć w niej nowe dane:\n",
    "\n",
    "1. Iloczyn każdych dwóch odpowiadających elementów zbioru X i Y (xy)\n",
    "2. Kwadrat każdego elementu ze zbioru X (x2)\n",
    "3. Kwadrat każdego elementu ze zbioru Y (y2)\n",
    "4. Sumy wszystkich elementów i wyżej wymienionych wartości dla każdego zbioru (Σ)\n",
    "5. Ilość elementów w zbiorach (n)\n",
    "\n",
    "Obliczmy więc te wartości w Pythonie:"
   ]
  },
  {
   "cell_type": "code",
   "execution_count": 15,
   "metadata": {
    "scrolled": true
   },
   "outputs": [
    {
     "name": "stdout",
     "output_type": "stream",
     "text": [
      "n =  7\n",
      "\n"
     ]
    },
    {
     "data": {
      "text/html": [
       "<div>\n",
       "<style scoped>\n",
       "    .dataframe tbody tr th:only-of-type {\n",
       "        vertical-align: middle;\n",
       "    }\n",
       "\n",
       "    .dataframe tbody tr th {\n",
       "        vertical-align: top;\n",
       "    }\n",
       "\n",
       "    .dataframe thead th {\n",
       "        text-align: right;\n",
       "    }\n",
       "</style>\n",
       "<table border=\"1\" class=\"dataframe\">\n",
       "  <thead>\n",
       "    <tr style=\"text-align: right;\">\n",
       "      <th></th>\n",
       "      <th>X</th>\n",
       "      <th>Y</th>\n",
       "      <th>y2</th>\n",
       "      <th>xy</th>\n",
       "      <th>x2</th>\n",
       "    </tr>\n",
       "  </thead>\n",
       "  <tbody>\n",
       "    <tr>\n",
       "      <th>0</th>\n",
       "      <td>1.0</td>\n",
       "      <td>4.00000</td>\n",
       "      <td>16.000000</td>\n",
       "      <td>4.00000</td>\n",
       "      <td>1.0</td>\n",
       "    </tr>\n",
       "    <tr>\n",
       "      <th>1</th>\n",
       "      <td>2.0</td>\n",
       "      <td>6.00000</td>\n",
       "      <td>36.000000</td>\n",
       "      <td>12.00000</td>\n",
       "      <td>4.0</td>\n",
       "    </tr>\n",
       "    <tr>\n",
       "      <th>2</th>\n",
       "      <td>3.0</td>\n",
       "      <td>9.00000</td>\n",
       "      <td>81.000000</td>\n",
       "      <td>27.00000</td>\n",
       "      <td>9.0</td>\n",
       "    </tr>\n",
       "    <tr>\n",
       "      <th>3</th>\n",
       "      <td>4.0</td>\n",
       "      <td>11.00000</td>\n",
       "      <td>121.000000</td>\n",
       "      <td>44.00000</td>\n",
       "      <td>16.0</td>\n",
       "    </tr>\n",
       "    <tr>\n",
       "      <th>4</th>\n",
       "      <td>5.0</td>\n",
       "      <td>18.00000</td>\n",
       "      <td>324.000000</td>\n",
       "      <td>90.00000</td>\n",
       "      <td>25.0</td>\n",
       "    </tr>\n",
       "    <tr>\n",
       "      <th>5</th>\n",
       "      <td>6.0</td>\n",
       "      <td>19.50000</td>\n",
       "      <td>380.250000</td>\n",
       "      <td>117.00000</td>\n",
       "      <td>36.0</td>\n",
       "    </tr>\n",
       "    <tr>\n",
       "      <th>6</th>\n",
       "      <td>20.0</td>\n",
       "      <td>66.11248</td>\n",
       "      <td>4370.860076</td>\n",
       "      <td>1322.24961</td>\n",
       "      <td>400.0</td>\n",
       "    </tr>\n",
       "    <tr>\n",
       "      <th>Σ</th>\n",
       "      <td>41.0</td>\n",
       "      <td>133.61248</td>\n",
       "      <td>5329.110076</td>\n",
       "      <td>1616.24961</td>\n",
       "      <td>491.0</td>\n",
       "    </tr>\n",
       "  </tbody>\n",
       "</table>\n",
       "</div>"
      ],
      "text/plain": [
       "      X          Y           y2          xy     x2\n",
       "0   1.0    4.00000    16.000000     4.00000    1.0\n",
       "1   2.0    6.00000    36.000000    12.00000    4.0\n",
       "2   3.0    9.00000    81.000000    27.00000    9.0\n",
       "3   4.0   11.00000   121.000000    44.00000   16.0\n",
       "4   5.0   18.00000   324.000000    90.00000   25.0\n",
       "5   6.0   19.50000   380.250000   117.00000   36.0\n",
       "6  20.0   66.11248  4370.860076  1322.24961  400.0\n",
       "Σ  41.0  133.61248  5329.110076  1616.24961  491.0"
      ]
     },
     "execution_count": 15,
     "metadata": {},
     "output_type": "execute_result"
    }
   ],
   "source": [
    "n = len(df['X'])\n",
    "vr = pd.DataFrame(df[:])\n",
    "vr['y2'] = df['Y'] * df['Y']\n",
    "vr['xy'] = df['X'] * df['Y']\n",
    "vr['x2'] = df['X'] * df['X']\n",
    "vr['y2'] = df['Y'] * df['Y']\n",
    "vr.loc['Σ'] = vr.sum()\n",
    "\n",
    "print(\"n = \", n)\n",
    "print()\n",
    "print(vr)"
   ]
  },
  {
   "cell_type": "markdown",
   "metadata": {},
   "source": [
    "Teraz, jak już znamy potrzebne wartości, możemy znacznie uprościć nasz wzór:\n",
    "\n",
    "$$ r_{XY}=\\frac{n \\times \\sum x_{i} y_{i} - \\sum x_{i} \\times \\sum y_{i}}{\\sqrt{[n \\times \\sum x_{i}^{2} - (\\sum x_{i})^{2}] \\times [n \\times \\sum y_{i}^{2} - (\\sum y_{i})^{2}]}} $$\n",
    "\n",
    "Obliczenie tego jest już bardzo proste:\n",
    "\n",
    "$$ r_{XY}=\\frac{5 \\times 177- 15 \\times 48}{\\sqrt{[5 \\times 55 - (15)^{2}] \\times [5 \\times 578 - (48)^{2}]}} = \\frac{165}{\\sqrt{29300}} \\approx 0.963...$$\n",
    "\n",
    "A tak wygląda to w Pythonie:"
   ]
  },
  {
   "cell_type": "code",
   "execution_count": 6,
   "metadata": {},
   "outputs": [
    {
     "name": "stdout",
     "output_type": "stream",
     "text": [
      "r =  0.963940292431027\n"
     ]
    }
   ],
   "source": [
    "def wsp_korelacji_pearsona(n, ΣX, ΣY, Σxy, Σx2, Σy2):\n",
    "    return ( (n * Σxy - ΣX * ΣY) /\n",
    "             (sqrt((n * Σx2 - ΣX**2) * (n * Σy2 - ΣY**2))) )\n",
    "\n",
    "r = wsp_korelacji_pearsona(n, vr['X']['Σ'], vr['Y']['Σ'], vr['xy']['Σ'], vr['x2']['Σ'], vr['y2']['Σ'])\n",
    "print(\"r = \", r)"
   ]
  },
  {
   "cell_type": "markdown",
   "metadata": {},
   "source": [
    "### Podsumujmy"
   ]
  },
  {
   "cell_type": "code",
   "execution_count": 7,
   "metadata": {},
   "outputs": [
    {
     "name": "stdout",
     "output_type": "stream",
     "text": [
      "Mx:  3.0\n",
      "My:  9.6\n",
      "\n",
      "Sx:  1.5811388300841898\n",
      "Sy:  5.412947441089743\n",
      "\n",
      "r =  0.963940292431027\n"
     ]
    }
   ],
   "source": [
    "print(\"Mx: \", Mx)\n",
    "print(\"My: \", My)\n",
    "print()\n",
    "print(\"Sx: \", Sx)\n",
    "print(\"Sy: \", Sy)\n",
    "print()\n",
    "print(\"r = \", r)"
   ]
  },
  {
   "cell_type": "markdown",
   "metadata": {},
   "source": [
    "### Obliczanie najlepiej pasującej linii\n",
    "Powtórzmy wzór:\n",
    "\n",
    "$$ y = bx + a $$\n",
    "\n",
    "Dalej nie znamy współczynników b i a. Oto jak je obliczyć:\n",
    "\n",
    "$$ b = r \\times \\frac{Sy}{Sx} $$\n",
    "\n",
    "$$ a = My - b \\times Mx $$\n",
    "\n",
    "Zatem policzmy (w przybliżeniu do 2 miejsc po przecinku):\n",
    "\n",
    "$$ b = 0.96 \\times \\frac{5.41}{1.58} = 3.28 $$\n",
    "\n",
    "$$ a = 9.6 - 3.28\\times 3 = -0,24 $$\n",
    "\n",
    "**..a więc oto nasza najlepiej pasująca linia**:\n",
    "\n",
    "$$ y = 0.281 \\times x + 8.757 $$\n",
    "\n",
    "Policzmy to dokładniej w Pythonie:"
   ]
  },
  {
   "cell_type": "code",
   "execution_count": 8,
   "metadata": {},
   "outputs": [
    {
     "name": "stdout",
     "output_type": "stream",
     "text": [
      "b =  3.3\n",
      "a =  -0.29999999999999893\n"
     ]
    },
    {
     "data": {
      "image/png": "[encoded data removed]",
      "text/plain": [
       "<Figure size 432x288 with 1 Axes>"
      ]
     },
     "metadata": {
      "needs_background": "light"
     },
     "output_type": "display_data"
    }
   ],
   "source": [
    "import numpy as np\n",
    "\n",
    "b = r * (Sy / Sx)\n",
    "a = My - (b * Mx)\n",
    "print(\"b = \", b)\n",
    "print(\"a = \", a)\n",
    "\n",
    "def najlepiej_pasujaca_linia(x):\n",
    "    return (b * x) + a\n",
    "\n",
    "x = np.linspace(0, 5, 1000)\n",
    "plt.scatter(df['X'], df['Y'], label='Wartości Niezależne')\n",
    "plt.plot(x, najlepiej_pasujaca_linia(x), 'r', label='Najlepiej Pasująca linia')\n",
    "plt.xlabel('Wartości X')\n",
    "plt.ylabel('Wartości Y')\n",
    "plt.legend()\n",
    "plt.show()"
   ]
  },
  {
   "cell_type": "markdown",
   "metadata": {},
   "source": [
    "## Przewidywanie\n",
    "Super! Obliczyliśmy już naszą najlepiej pasującą linię! Żeby przewidywać wyniki dla dowolnej wartości x, musimy jedynie obliczyć je ze\n",
    "\n",
    "$$ \\hat{y} = bx + a $$\n",
    "\n",
    "Dodajmy więc nowy element do zbioru X:\n",
    "\n",
    "$$ X = \\left \\{  1,2,3,4,5,6 \\right \\} $$\n",
    "$$ Y = \\left \\{  4, 6, 9, 11, 18 \\right \\} $$"
   ]
  },
  {
   "cell_type": "code",
   "execution_count": 9,
   "metadata": {},
   "outputs": [
    {
     "data": {
      "text/html": [
       "<div>\n",
       "<style scoped>\n",
       "    .dataframe tbody tr th:only-of-type {\n",
       "        vertical-align: middle;\n",
       "    }\n",
       "\n",
       "    .dataframe tbody tr th {\n",
       "        vertical-align: top;\n",
       "    }\n",
       "\n",
       "    .dataframe thead th {\n",
       "        text-align: right;\n",
       "    }\n",
       "</style>\n",
       "<table border=\"1\" class=\"dataframe\">\n",
       "  <thead>\n",
       "    <tr style=\"text-align: right;\">\n",
       "      <th></th>\n",
       "      <th>X</th>\n",
       "      <th>Y</th>\n",
       "    </tr>\n",
       "  </thead>\n",
       "  <tbody>\n",
       "    <tr>\n",
       "      <th>0</th>\n",
       "      <td>1.0</td>\n",
       "      <td>4.0</td>\n",
       "    </tr>\n",
       "    <tr>\n",
       "      <th>1</th>\n",
       "      <td>2.0</td>\n",
       "      <td>6.0</td>\n",
       "    </tr>\n",
       "    <tr>\n",
       "      <th>2</th>\n",
       "      <td>3.0</td>\n",
       "      <td>9.0</td>\n",
       "    </tr>\n",
       "    <tr>\n",
       "      <th>3</th>\n",
       "      <td>4.0</td>\n",
       "      <td>11.0</td>\n",
       "    </tr>\n",
       "    <tr>\n",
       "      <th>4</th>\n",
       "      <td>5.0</td>\n",
       "      <td>18.0</td>\n",
       "    </tr>\n",
       "    <tr>\n",
       "      <th>5</th>\n",
       "      <td>6.0</td>\n",
       "      <td>NaN</td>\n",
       "    </tr>\n",
       "  </tbody>\n",
       "</table>\n",
       "</div>"
      ],
      "text/plain": [
       "     X     Y\n",
       "0  1.0   4.0\n",
       "1  2.0   6.0\n",
       "2  3.0   9.0\n",
       "3  4.0  11.0\n",
       "4  5.0  18.0\n",
       "5  6.0   NaN"
      ]
     },
     "execution_count": 9,
     "metadata": {},
     "output_type": "execute_result"
    }
   ],
   "source": [
    "df = df.append({'X': 6, 'Y': np.nan}, ignore_index=True)\n",
    "df"
   ]
  },
  {
   "cell_type": "markdown",
   "metadata": {},
   "source": [
    "Teraz musimy obliczyć (przewidzieć) odpowiadającą wartość dla zbioru Y. Zrobimy to tak:\n",
    "\n",
    "$$ y = 3.3 \\times 6 - 0.29 = 19,51 $$\n",
    "\n",
    "19,51. Oto nasza przewidziana wartość! Napiszmy to jeszcze w Pythonie:"
   ]
  },
  {
   "cell_type": "code",
   "execution_count": 10,
   "metadata": {},
   "outputs": [
    {
     "data": {
      "text/html": [
       "<div>\n",
       "<style scoped>\n",
       "    .dataframe tbody tr th:only-of-type {\n",
       "        vertical-align: middle;\n",
       "    }\n",
       "\n",
       "    .dataframe tbody tr th {\n",
       "        vertical-align: top;\n",
       "    }\n",
       "\n",
       "    .dataframe thead th {\n",
       "        text-align: right;\n",
       "    }\n",
       "</style>\n",
       "<table border=\"1\" class=\"dataframe\">\n",
       "  <thead>\n",
       "    <tr style=\"text-align: right;\">\n",
       "      <th></th>\n",
       "      <th>X</th>\n",
       "      <th>Y</th>\n",
       "    </tr>\n",
       "  </thead>\n",
       "  <tbody>\n",
       "    <tr>\n",
       "      <th>0</th>\n",
       "      <td>1.0</td>\n",
       "      <td>4.0</td>\n",
       "    </tr>\n",
       "    <tr>\n",
       "      <th>1</th>\n",
       "      <td>2.0</td>\n",
       "      <td>6.0</td>\n",
       "    </tr>\n",
       "    <tr>\n",
       "      <th>2</th>\n",
       "      <td>3.0</td>\n",
       "      <td>9.0</td>\n",
       "    </tr>\n",
       "    <tr>\n",
       "      <th>3</th>\n",
       "      <td>4.0</td>\n",
       "      <td>11.0</td>\n",
       "    </tr>\n",
       "    <tr>\n",
       "      <th>4</th>\n",
       "      <td>5.0</td>\n",
       "      <td>18.0</td>\n",
       "    </tr>\n",
       "    <tr>\n",
       "      <th>5</th>\n",
       "      <td>6.0</td>\n",
       "      <td>19.5</td>\n",
       "    </tr>\n",
       "  </tbody>\n",
       "</table>\n",
       "</div>"
      ],
      "text/plain": [
       "     X     Y\n",
       "0  1.0   4.0\n",
       "1  2.0   6.0\n",
       "2  3.0   9.0\n",
       "3  4.0  11.0\n",
       "4  5.0  18.0\n",
       "5  6.0  19.5"
      ]
     },
     "execution_count": 10,
     "metadata": {},
     "output_type": "execute_result"
    }
   ],
   "source": [
    "def przewidz_y(x, b, a):\n",
    "    return b * x + a\n",
    "\n",
    "df.at[5, 'Y'] = przewidz_y(df['X'][5], b, a)\n",
    "df"
   ]
  },
  {
   "cell_type": "markdown",
   "metadata": {},
   "source": [
    "## Ocenianie dokładności modelu\n",
    "Jak już wiemy jak obiliczyć najlepiej pasującą linię i przewidywać wartości za jej pomocą, chcemy wiedzieć **jak dokładne będą nasze wyniki**. Możemy to określić za pomocą __współczynnika determinacji r kwadrat__ (ang. squared r). \n",
    "\n",
    "Oblicza go się ze wzoru:\n",
    "\n",
    "$$ R^{2} = \\frac{SS_{M}}{SS_{T}} = \\frac{\\sum_{i = 0}^{n} (\\hat{y_{i}} - M_{Y})^{2}}{\\sum_{i = 0}^{n} (Y_{i} - M_{Y})^{2}} $$\n",
    "\n",
    "Intuicja potrzebna do zrozumienia tego wzoru przedstawiona jest w tym filmie:\n"
   ]
  },
  {
   "cell_type": "code",
   "execution_count": 11,
   "metadata": {},
   "outputs": [
    {
     "data": {
      "text/html": [
       "\n",
       "        <iframe\n",
       "            width=\"550\"\n",
       "            height=\"300\"\n",
       "            src=\"https://www.youtube.com/embed/-fgYp74SNtk?end=230\"\n",
       "            frameborder=\"0\"\n",
       "            allowfullscreen\n",
       "        ></iframe>\n",
       "        "
      ],
      "text/plain": [
       "<IPython.lib.display.YouTubeVideo at 0x11053a240>"
      ]
     },
     "execution_count": 11,
     "metadata": {},
     "output_type": "execute_result"
    }
   ],
   "source": [
    "from IPython.display import YouTubeVideo\n",
    "YouTubeVideo(id=\"-fgYp74SNtk\", width=550, height=300, end=230)"
   ]
  },
  {
   "cell_type": "markdown",
   "metadata": {},
   "source": [
    "Wróćmy więc do naszego wzoru:\n",
    "\n",
    "$$ R^{2} = \\frac{SS_{M}}{SS_{T}} = \\frac{\\sum_{i = 0}^{n} (\\hat{y_{i}} - M_{Y})^{2}}{\\sum_{i = 0}^{n} (Y_{i} - M_{Y})^{2}} $$\n",
    "\n",
    "Jak już wiesz, **SSm** oznacza sumę kwadratów różnic między przewidywanym wynikiem a średnią wartości zależnych (Y). \n",
    "**SSt** analogicznie oznacza sumę kwadratów różnic między znanymi wartościami zależnymi a średnią tych wartości.\n",
    "\n",
    "Korzystając ze wzoru, obliczmy teraz współczynnik determinacji dla naszego przykładu w Pythonie:"
   ]
  },
  {
   "cell_type": "code",
   "execution_count": 12,
   "metadata": {},
   "outputs": [
    {
     "name": "stdout",
     "output_type": "stream",
     "text": [
      "R2 =  0.9614330189117608\n"
     ]
    }
   ],
   "source": [
    "def wsp_determinacji_r_kwadrat(b, a, df, My):\n",
    "    SSm = 0.00\n",
    "    SSt = 0.00\n",
    "    for _, rzad in df.iterrows():\n",
    "        x = rzad['X']\n",
    "        y = rzad['Y']\n",
    "        y_p = przewidz_y(x, b, a)\n",
    "        SSm += (y_p - My) **2\n",
    "        SSt += (y - My) ** 2\n",
    "    return SSm / SSt\n",
    "\n",
    "R2 = wsp_determinacji_r_kwadrat(b, a, df, My)\n",
    "print(\"R2 = \", R2) "
   ]
  },
  {
   "cell_type": "markdown",
   "metadata": {},
   "source": [
    "## Podsumowanie\n",
    "Wiedząc to wszystko, możemy napisać w Pythonie funkcję regresji liniowej pozwalającą nam na trenowanie i testowanie naszego modelu:"
   ]
  },
  {
   "cell_type": "code",
   "execution_count": 13,
   "metadata": {},
   "outputs": [
    {
     "name": "stdout",
     "output_type": "stream",
     "text": [
      "Argument: \n"
     ]
    },
    {
     "data": {
      "text/html": [
       "<div>\n",
       "<style scoped>\n",
       "    .dataframe tbody tr th:only-of-type {\n",
       "        vertical-align: middle;\n",
       "    }\n",
       "\n",
       "    .dataframe tbody tr th {\n",
       "        vertical-align: top;\n",
       "    }\n",
       "\n",
       "    .dataframe thead th {\n",
       "        text-align: right;\n",
       "    }\n",
       "</style>\n",
       "<table border=\"1\" class=\"dataframe\">\n",
       "  <thead>\n",
       "    <tr style=\"text-align: right;\">\n",
       "      <th></th>\n",
       "      <th>X</th>\n",
       "      <th>Y</th>\n",
       "    </tr>\n",
       "  </thead>\n",
       "  <tbody>\n",
       "    <tr>\n",
       "      <th>0</th>\n",
       "      <td>1.0</td>\n",
       "      <td>4.0</td>\n",
       "    </tr>\n",
       "    <tr>\n",
       "      <th>1</th>\n",
       "      <td>2.0</td>\n",
       "      <td>6.0</td>\n",
       "    </tr>\n",
       "    <tr>\n",
       "      <th>2</th>\n",
       "      <td>3.0</td>\n",
       "      <td>9.0</td>\n",
       "    </tr>\n",
       "    <tr>\n",
       "      <th>3</th>\n",
       "      <td>4.0</td>\n",
       "      <td>11.0</td>\n",
       "    </tr>\n",
       "    <tr>\n",
       "      <th>4</th>\n",
       "      <td>5.0</td>\n",
       "      <td>18.0</td>\n",
       "    </tr>\n",
       "    <tr>\n",
       "      <th>5</th>\n",
       "      <td>6.0</td>\n",
       "      <td>19.5</td>\n",
       "    </tr>\n",
       "    <tr>\n",
       "      <th>6</th>\n",
       "      <td>20.0</td>\n",
       "      <td>NaN</td>\n",
       "    </tr>\n",
       "  </tbody>\n",
       "</table>\n",
       "</div>"
      ],
      "text/plain": [
       "      X     Y\n",
       "0   1.0   4.0\n",
       "1   2.0   6.0\n",
       "2   3.0   9.0\n",
       "3   4.0  11.0\n",
       "4   5.0  18.0\n",
       "5   6.0  19.5\n",
       "6  20.0   NaN"
      ]
     },
     "execution_count": 13,
     "metadata": {},
     "output_type": "execute_result"
    }
   ],
   "source": [
    "df = df.append({'X': 20, 'Y': np.nan}, ignore_index=True)\n",
    "print(\"Argument: \")\n",
    "df"
   ]
  },
  {
   "cell_type": "code",
   "execution_count": 14,
   "metadata": {},
   "outputs": [
    {
     "name": "stdout",
     "output_type": "stream",
     "text": [
      "Dokładność =  0.9728387171740644\n"
     ]
    },
    {
     "data": {
      "text/html": [
       "<div>\n",
       "<style scoped>\n",
       "    .dataframe tbody tr th:only-of-type {\n",
       "        vertical-align: middle;\n",
       "    }\n",
       "\n",
       "    .dataframe tbody tr th {\n",
       "        vertical-align: top;\n",
       "    }\n",
       "\n",
       "    .dataframe thead th {\n",
       "        text-align: right;\n",
       "    }\n",
       "</style>\n",
       "<table border=\"1\" class=\"dataframe\">\n",
       "  <thead>\n",
       "    <tr style=\"text-align: right;\">\n",
       "      <th></th>\n",
       "      <th>X</th>\n",
       "      <th>Y</th>\n",
       "    </tr>\n",
       "  </thead>\n",
       "  <tbody>\n",
       "    <tr>\n",
       "      <th>0</th>\n",
       "      <td>1.0</td>\n",
       "      <td>4.00000</td>\n",
       "    </tr>\n",
       "    <tr>\n",
       "      <th>1</th>\n",
       "      <td>2.0</td>\n",
       "      <td>6.00000</td>\n",
       "    </tr>\n",
       "    <tr>\n",
       "      <th>2</th>\n",
       "      <td>3.0</td>\n",
       "      <td>9.00000</td>\n",
       "    </tr>\n",
       "    <tr>\n",
       "      <th>3</th>\n",
       "      <td>4.0</td>\n",
       "      <td>11.00000</td>\n",
       "    </tr>\n",
       "    <tr>\n",
       "      <th>4</th>\n",
       "      <td>5.0</td>\n",
       "      <td>18.00000</td>\n",
       "    </tr>\n",
       "    <tr>\n",
       "      <th>5</th>\n",
       "      <td>6.0</td>\n",
       "      <td>19.50000</td>\n",
       "    </tr>\n",
       "    <tr>\n",
       "      <th>6</th>\n",
       "      <td>20.0</td>\n",
       "      <td>66.11248</td>\n",
       "    </tr>\n",
       "  </tbody>\n",
       "</table>\n",
       "</div>"
      ],
      "text/plain": [
       "      X         Y\n",
       "0   1.0   4.00000\n",
       "1   2.0   6.00000\n",
       "2   3.0   9.00000\n",
       "3   4.0  11.00000\n",
       "4   5.0  18.00000\n",
       "5   6.0  19.50000\n",
       "6  20.0  66.11248"
      ]
     },
     "execution_count": 14,
     "metadata": {},
     "output_type": "execute_result"
    }
   ],
   "source": [
    "def RegresjaLiniowa(inp):\n",
    "    y_dlug = inp.count()['Y']\n",
    "    out = inp[:]\n",
    "    inp = inp.dropna()\n",
    "    \n",
    "    Mx = srednia(inp['X'])\n",
    "    My = srednia(inp['Y'])\n",
    "    \n",
    "    Sx = odchylenie(inp['X'], Mx)\n",
    "    Sy = odchylenie(inp['Y'], My)\n",
    "\n",
    "    n = len(df['X'])\n",
    "    vr = pd.DataFrame(inp[:])\n",
    "    vr['y2'] = df['Y'] * df['Y']\n",
    "    vr['xy'] = df['X'] * df['Y']\n",
    "    vr['x2'] = df['X'] * df['X']\n",
    "    vr['y2'] = df['Y'] * df['Y']\n",
    "    vr.loc['Σ'] = vr.sum()\n",
    "    r = wsp_korelacji_pearsona(n, vr['X']['Σ'], vr['Y']['Σ'], vr['xy']['Σ'], vr['x2']['Σ'], vr['y2']['Σ'])\n",
    "    b = r * (Sy / Sx)\n",
    "    a = My - (b * Mx)\n",
    "   \n",
    "\n",
    "    dokl = wsp_determinacji_r_kwadrat(b, a, inp, My)\n",
    "    \n",
    "    for i, rzad in out.iterrows():\n",
    "        if np.isnan(rzad['Y']):\n",
    "            \n",
    "            df.at[i, 'Y'] = przewidz_y(rzad['X'], b, a)\n",
    "    \n",
    "    return out, dokl\n",
    "\n",
    "wynik, dokladnosc = RegresjaLiniowa(df)\n",
    "\n",
    "print(\"Dokładność = \", dokladnosc)\n",
    "wynik"
   ]
  },
  {
   "cell_type": "markdown",
   "metadata": {},
   "source": [
    "Funkcja **RegresjaLiniowa(inp)** przyjmuje 1 argument typu DataFrame, który zawiera kompletną kolumnę X i co najmniej jedną wartość w kolumnie Y. Parametry, które chcemy przewidzieć muszą równać się NaN (ang. Not a Number)\n",
    "\n",
    "### Źródła\n",
    "* [Linear Regression - Wikipedia](https://en.wikipedia.org/wiki/Linear_regression)\n",
    "* [Coefficient of determination - Wikipedia](https://en.wikipedia.org/wiki/Coefficient_of_determination)\n",
    "* [Jak obliczyć odchylenie standardowe? - Statystyka Ludzkim Głosem](https://www.youtube.com/watch?v=rLPxu9GoaaQ)\n",
    "* [Jak obliczyć współczynnik korelacji Pearsona - Statystyka Ludzkim Głosem](https://www.youtube.com/watch?v=2-VEwB8n7Fo)\n",
    "* [Introduction to Linear Regression - onlinestatbook.com](http://onlinestatbook.com/2/regression/intro.html)\n",
    "* [Standard Deviation Formulas - Math Is Fun](https://www.mathsisfun.com/data/standard-deviation-formulas.html)\n",
    "* [Regresja Liniowa - naukowiec.org](http://www.naukowiec.org/wiedza/statystyka/regresja-liniowa_765.html)"
   ]
  }
 ],
 "metadata": {
  "kernelspec": {
   "display_name": "Python 3",
   "language": "python",
   "name": "python3"
  },
  "language_info": {
   "codemirror_mode": {
    "name": "ipython",
    "version": 3
   },
   "file_extension": ".py",
   "mimetype": "text/x-python",
   "name": "python",
   "nbconvert_exporter": "python",
   "pygments_lexer": "ipython3",
   "version": "3.6.5"
  }
 },
 "nbformat": 4,
 "nbformat_minor": 2
}
